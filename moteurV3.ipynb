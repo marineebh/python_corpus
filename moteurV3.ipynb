{
 "cells": [
  {
   "cell_type": "code",
   "execution_count": 11,
   "metadata": {},
   "outputs": [],
   "source": [
    "# Cellule 1 : Importation des bibliothèques nécessaires\n",
    "import re\n",
    "import pandas as pd\n",
    "from IPython.display import display\n",
    "import ipywidgets as widgets\n",
    "from Corpus import Corpus\n",
    "from Classes import Document, RedditDocument, ArxivDocument\n",
    "from search import SearchEngine\n",
    "import pickle"
   ]
  },
  {
   "cell_type": "code",
   "execution_count": 12,
   "metadata": {},
   "outputs": [],
   "source": [
    "\n",
    "try:\n",
    "    with open(\"corpusbis.pkl\", \"rb\") as f:\n",
    "        saved_corpus = pickle.load(f)\n",
    "except FileNotFoundError:\n",
    "    print(\"Erreur : Le fichier 'corpusbis.pkl' est introuvable.\")\n",
    "except pickle.UnpicklingError:\n",
    "    print(\"Erreur : Impossible de décharger le fichier pickle.\")\n",
    "except Exception as e:\n",
    "    print(f\"Erreur inconnue lors du chargement du fichier : {e}\")\n",
    "\n",
    "\n",
    "\n",
    "corpus = Corpus(\"CorpusNASA\")  \n",
    "corpus.organisation(saved_corpus)\n",
    "\n",
    "search_engine = SearchEngine(corpus)\n"
   ]
  },
  {
   "cell_type": "code",
   "execution_count": 13,
   "metadata": {},
   "outputs": [],
   "source": [
    "keyword_input = widgets.Text(\n",
    "    description=\"Mot-clé:\",\n",
    "    placeholder=\"Entrez un mot-clé...\"\n",
    ")\n",
    "\n",
    "search_button = widgets.Button(description=\"Rechercher\")\n",
    "output = widgets.Output()\n",
    "\n",
    "results_slider = widgets.IntSlider(\n",
    "    value=5,  \n",
    "    min=1,    \n",
    "    max=10,   \n",
    "    step=1,   \n",
    "    description='Nombre de résultats:'\n",
    ")\n",
    "try :\n",
    "    search_button.on_click(\n",
    "        lambda b: search_engine.on_search_clicked(\n",
    "            b=b, \n",
    "            keyword=keyword_input.value.strip(), \n",
    "            top_k=results_slider.value, \n",
    "            output=output\n",
    "        )\n",
    "    )\n",
    "except Exception as e:\n",
    "    print(f\"error3 {e}\")"
   ]
  },
  {
   "cell_type": "code",
   "execution_count": 14,
   "metadata": {},
   "outputs": [
    {
     "data": {
      "text/html": [
       "\n",
       "<style>\n",
       "    .custom-button {\n",
       "        background-color: #4CAF50 !important; /* Couleur de fond */\n",
       "        color: white !important;             /* Couleur du texte */\n",
       "        border-radius: 5px;                  /* Bords arrondis */\n",
       "        padding: 10px 20px;\n",
       "        font-size: 16px;\n",
       "        cursor: pointer;\n",
       "    }\n",
       "    .custom-button:hover {\n",
       "        background-color: #45a049 !important; /* Couleur au survol */\n",
       "    }\n",
       "</style>\n"
      ],
      "text/plain": [
       "<IPython.core.display.HTML object>"
      ]
     },
     "metadata": {},
     "output_type": "display_data"
    },
    {
     "data": {
      "application/vnd.jupyter.widget-view+json": {
       "model_id": "dfcea4168f79477ab6eac03f340d5b6d",
       "version_major": 2,
       "version_minor": 0
      },
      "text/plain": [
       "VBox(children=(Text(value='', description='Mot-clé:', placeholder='Entrez un mot-clé...'), IntSlider(value=5, …"
      ]
     },
     "metadata": {},
     "output_type": "display_data"
    }
   ],
   "source": [
    "\n",
    "# Appliquer des styles via CSS\n",
    "display(HTML(\"\"\"\n",
    "<style>\n",
    "    .custom-button {\n",
    "        background-color: #4CAF50 !important; /* Couleur de fond */\n",
    "        color: white !important;             /* Couleur du texte */\n",
    "        border-radius: 5px;                  /* Bords arrondis */\n",
    "        padding: 10px 20px;\n",
    "        font-size: 16px;\n",
    "        cursor: pointer;\n",
    "    }\n",
    "    .custom-button:hover {\n",
    "        background-color: #45a049 !important; /* Couleur au survol */\n",
    "    }\n",
    "</style>\n",
    "\"\"\"))\n",
    "\n",
    "# Ajouter une classe CSS au widget\n",
    "search_button.add_class('custom-button')\n",
    "display(widgets.VBox([\n",
    "    keyword_input, \n",
    "    results_slider,  \n",
    "    search_button, \n",
    "    output\n",
    "]))\n"
   ]
  }
 ],
 "metadata": {
  "kernelspec": {
   "display_name": "Python 3",
   "language": "python",
   "name": "python3"
  },
  "language_info": {
   "codemirror_mode": {
    "name": "ipython",
    "version": 3
   },
   "file_extension": ".py",
   "mimetype": "text/x-python",
   "name": "python",
   "nbconvert_exporter": "python",
   "pygments_lexer": "ipython3",
   "version": "3.10.11"
  }
 },
 "nbformat": 4,
 "nbformat_minor": 2
}
