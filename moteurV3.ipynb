{
 "cells": [
  {
   "cell_type": "code",
   "execution_count": 1,
   "metadata": {},
   "outputs": [],
   "source": [
    "#importation des bibliothèques\n",
    "import re\n",
    "import pandas as pd\n",
    "from IPython.display import display\n",
    "from IPython.core.display import HTML\n",
    "from ipywidgets import VBox, HBox, Text, Button, IntSlider, Output\n",
    "import ipywidgets as widgets\n",
    "from Corpus import Corpus\n",
    "from Classes import Document, RedditDocument, ArxivDocument\n",
    "from search import SearchEngine\n",
    "import pickle"
   ]
  },
  {
   "cell_type": "code",
   "execution_count": 2,
   "metadata": {},
   "outputs": [],
   "source": [
    "#lecture fichier corpusbis.pkl, affiche messages d'erreur si échec.\n",
    "try:\n",
    "    with open(\"corpusbis.pkl\", \"rb\") as f:\n",
    "        saved_corpus = pickle.load(f)\n",
    "#affichage des erreurs selon le contexte\n",
    "except FileNotFoundError:\n",
    "    print(\"Erreur : Le fichier 'corpusbis.pkl' est introuvable.\")\n",
    "except pickle.UnpicklingError:\n",
    "    print(\"Erreur : Impossible de décharger le fichier pickle.\")\n",
    "except Exception as e:\n",
    "    print(f\"Erreur inconnue lors du chargement du fichier : {e}\")\n",
    "\n",
    "\n",
    "\n",
    "corpus = Corpus(\"CorpusNASA\")  \n",
    "corpus.organisation(saved_corpus) #appel fonction pour classer les docs selon leur type (reddit ou arxiv)\n",
    "\n",
    "search_engine = SearchEngine(corpus) #initialise le moteur de recherche avec le corpus organisé.\n"
   ]
  },
  {
   "cell_type": "code",
   "execution_count": 3,
   "metadata": {},
   "outputs": [],
   "source": [
    "#def des widgets\n",
    "keyword_input = widgets.Text(\n",
    "    description=\"Mot-clé:\",\n",
    "    placeholder=\"Entrez un mot-clé...\"\n",
    ")\n",
    "\n",
    "#bouton déclenchement de la recherche\n",
    "search_button = widgets.Button(description=\"Rechercher\") \n",
    "output = widgets.Output()\n",
    "\n",
    "#curseur pour ajuster le nombre de résultats affichés (1 à 10)\n",
    "results_slider = widgets.IntSlider(\n",
    "    value=5,  \n",
    "    min=1,    \n",
    "    max=10,   \n",
    "    step=1,   \n",
    "    description='Nombre de résultats:',\n",
    "    style={'description_width': '150px'},\n",
    "    layout=widgets.Layout(width='400px') \n",
    ")\n",
    "try :\n",
    "    search_button.on_click(\n",
    "        lambda b: search_engine.on_search_clicked(\n",
    "            b=b, \n",
    "            keyword=keyword_input.value.strip(), \n",
    "            top_k=results_slider.value, \n",
    "            output=output\n",
    "        )\n",
    "    )\n",
    "except Exception as e:\n",
    "    print(f\"error3 {e}\")"
   ]
  },
  {
   "cell_type": "code",
   "execution_count": 4,
   "metadata": {},
   "outputs": [
    {
     "data": {
      "text/html": [
       "\n",
       "<style>\n",
       "    .custom-button {\n",
       "        background-color: #0B3D91 !important; /* Couleur de fond */\n",
       "        color: white !important;             /* Couleur du texte */\n",
       "        border-radius: 5px;                  /* Bords arrondis */\n",
       "        padding: 15px 50px;                  /* Ajuster l'espacement pour plus de centrage */\n",
       "        font-size: 18px;\n",
       "        text-align : center;\n",
       "        font-weight: bold;                   /* Texte gras */\n",
       "        box-shadow: 0 4px 6px rgba(0, 0, 0, 0.1); /* Ombre portée */\n",
       "        cursor: pointer;\n",
       "        transition: transform 0.2s, background-color 0.2s;\n",
       "        display: flex;\n",
       "        justify-content: center;             /* Centrer horizontalement */\n",
       "        align-items: center;                 /* Centrer verticalement */\n",
       "    }\n",
       "    .custom-button:hover {\n",
       "        background-color: #FF0000 !important; /* Couleur au survol */\n",
       "    }\n",
       "    .nasa-title {\n",
       "        font-size: 36px;                      /* Grande taille pour le titre */\n",
       "        color: #0B3D91;                       /* Bleu NASA */\n",
       "        font-weight: bold;                    /* Texte gras */\n",
       "        text-align: center;\n",
       "        margin-bottom: 15px;\n",
       "    }\n",
       "    .nasa_subtitle {\n",
       "        font-size: 20px;                      /* Texte de sous-titre */\n",
       "        color: #333;                          /* Texte neutre */\n",
       "        text-align: center;\n",
       "        margin-bottom: 20px;\n",
       "    }\n",
       "    .custom-slider {\n",
       "        display: flex;\n",
       "        justify-content: flex-start;         /* Aligner le curseur à gauche */\n",
       "        margin-left: 50px;                   /* Décalage à droite */\n",
       "    }\n",
       "    \n",
       "    .keyword-widget {\n",
       "        display: flex;\n",
       "        align-items: center;\n",
       "        justify-content: center;\n",
       "        margin-bottom: 20px;\n",
       "    }\n",
       "    .keyword-input {\n",
       "        font-size: 16px;\n",
       "        padding: 10px;\n",
       "        width: 300px;\n",
       "        border: 2px solid #0B3D91; /* Bleu NASA */\n",
       "        border-radius: 8px;\n",
       "        background-color: #1C1C3C; /* Bleu foncé */\n",
       "        color: white;\n",
       "        box-shadow: 0 4px 10px rgba(0, 0, 0, 0.2);\n",
       "    }\n",
       "    .keyword-input:focus {\n",
       "        outline: none;\n",
       "        border-color: #45a049; /* Vert au focus */\n",
       "        box-shadow: 0 0 10px #45a049;\n",
       "    }\n",
       "    .rocket-icon {\n",
       "        font-size: 24px;\n",
       "        margin-right: 10px;\n",
       "        color: #0B3D91; /* Bleu NASA */\n",
       "    }\n",
       "</style>\n"
      ],
      "text/plain": [
       "<IPython.core.display.HTML object>"
      ]
     },
     "metadata": {},
     "output_type": "display_data"
    },
    {
     "data": {
      "application/vnd.jupyter.widget-view+json": {
       "model_id": "54b3dffbfdb249b39cfd2b083c5747d4",
       "version_major": 2,
       "version_minor": 0
      },
      "text/plain": [
       "HTML(value=\"<h2 class='nasa-title'>Bienvenue dans votre recherche sur la NASA 💫</h2>\")"
      ]
     },
     "metadata": {},
     "output_type": "display_data"
    },
    {
     "data": {
      "application/vnd.jupyter.widget-view+json": {
       "model_id": "ffab545a494744c1b6f3dce6b9e12fe4",
       "version_major": 2,
       "version_minor": 0
      },
      "text/plain": [
       "HTML(value='<div class=\"sub-header\">Utilisez les outils ci-dessous pour explorer les résultats en fonction de …"
      ]
     },
     "metadata": {},
     "output_type": "display_data"
    },
    {
     "data": {
      "application/vnd.jupyter.widget-view+json": {
       "model_id": "58437f93d4824f158f06ee3ee4fc7abc",
       "version_major": 2,
       "version_minor": 0
      },
      "text/plain": [
       "HBox(children=(HTML(value=\"<span class='rocket-icon'>🚀</span>\"), Text(value='', layout=Layout(width='300px'), …"
      ]
     },
     "metadata": {},
     "output_type": "display_data"
    },
    {
     "data": {
      "application/vnd.jupyter.widget-view+json": {
       "model_id": "8d9bba49babb4472aecdc17e1bde1fb5",
       "version_major": 2,
       "version_minor": 0
      },
      "text/plain": [
       "VBox(children=(IntSlider(value=5, description='Nombre de résultats:', layout=Layout(width='400px'), max=10, mi…"
      ]
     },
     "metadata": {},
     "output_type": "display_data"
    }
   ],
   "source": [
    "\n",
    "# Appliquer des styles via CSS\n",
    "display(HTML(\"\"\"\n",
    "<style>\n",
    "    .custom-button {\n",
    "        background-color: #0B3D91 !important; /* Couleur de fond */\n",
    "        color: white !important;             /* Couleur du texte */\n",
    "        border-radius: 5px;                  /* Bords arrondis */\n",
    "        padding: 15px 50px;                  /* Ajuster l'espacement pour plus de centrage */\n",
    "        font-size: 18px;\n",
    "        text-align : center;\n",
    "        font-weight: bold;                   /* Texte gras */\n",
    "        box-shadow: 0 4px 6px rgba(0, 0, 0, 0.1); /* Ombre portée */\n",
    "        cursor: pointer;\n",
    "        transition: transform 0.2s, background-color 0.2s;\n",
    "        display: flex;\n",
    "        justify-content: center;             /* Centrer horizontalement */\n",
    "        align-items: center;                 /* Centrer verticalement */\n",
    "    }\n",
    "    .custom-button:hover {\n",
    "        background-color: #FF0000 !important; /* Couleur au survol */\n",
    "    }\n",
    "    .nasa-title {\n",
    "        font-size: 36px;                      /* Grande taille pour le titre */\n",
    "        color: #0B3D91;                       /* Bleu NASA */\n",
    "        font-weight: bold;                    /* Texte gras */\n",
    "        text-align: center;\n",
    "        margin-bottom: 15px;\n",
    "    }\n",
    "    .nasa_subtitle {\n",
    "        font-size: 20px;                      /* Texte de sous-titre */\n",
    "        color: #333;                          /* Texte neutre */\n",
    "        text-align: center;\n",
    "        margin-bottom: 20px;\n",
    "    }\n",
    "    .custom-slider {\n",
    "        display: flex;\n",
    "        justify-content: flex-start;         /* Aligner le curseur à gauche */\n",
    "        margin-left: 50px;                   /* Décalage à droite */\n",
    "    }\n",
    "    \n",
    "    .keyword-widget {\n",
    "        display: flex;\n",
    "        align-items: center;\n",
    "        justify-content: center;\n",
    "        margin-bottom: 20px;\n",
    "    }\n",
    "    .keyword-input {\n",
    "        font-size: 16px;\n",
    "        padding: 10px;\n",
    "        width: 300px;\n",
    "        border: 2px solid #0B3D91; /* Bleu NASA */\n",
    "        border-radius: 8px;\n",
    "        background-color: #1C1C3C; /* Bleu foncé */\n",
    "        color: white;\n",
    "        box-shadow: 0 4px 10px rgba(0, 0, 0, 0.2);\n",
    "    }\n",
    "    .keyword-input:focus {\n",
    "        outline: none;\n",
    "        border-color: #45a049; /* Vert au focus */\n",
    "        box-shadow: 0 0 10px #45a049;\n",
    "    }\n",
    "    .rocket-icon {\n",
    "        font-size: 24px;\n",
    "        margin-right: 10px;\n",
    "        color: #0B3D91; /* Bleu NASA */\n",
    "    }\n",
    "</style>\n",
    "\"\"\"))\n",
    "\n",
    "# Titre \"Bienvenue dans votre recherche sur la NASA\"\n",
    "title = widgets.HTML(value=\"<h2 class='nasa-title'>Bienvenue dans votre recherche sur la NASA 💫</h2>\")\n",
    "sub_title = widgets.HTML('<div class=\"sub-header\">Utilisez les outils ci-dessous pour explorer les résultats en fonction de vos mots-clés.</div>')\n",
    "\n",
    "display(title)  # Affichage du titre\n",
    "display(sub_title)\n",
    "\n",
    "# Ajout d'une icône et d'un champ de texte thématique\n",
    "rocket_icon = widgets.HTML(value=\"<span class='rocket-icon'>🚀</span>\")\n",
    "keyword_input = widgets.Text(\n",
    "    description=\"\",\n",
    "    placeholder=\"Entrez un mot-clé...\",\n",
    "    layout=widgets.Layout(width='300px'),\n",
    "    style={'description_width': '0px'}\n",
    ")\n",
    "\n",
    "# Disposition horizontale avec l'icône et le champ\n",
    "keyword_box = widgets.HBox([rocket_icon, keyword_input], layout=widgets.Layout(justify_content=\"center\"))\n",
    "display(keyword_box)\n",
    "\n",
    "# Ajouter une classe CSS au widget\n",
    "search_button.add_class('custom-button')\n",
    "display(widgets.VBox([\n",
    "    results_slider,  \n",
    "    search_button, \n",
    "    output\n",
    "]))\n"
   ]
  }
 ],
 "metadata": {
  "kernelspec": {
   "display_name": "Python 3",
   "language": "python",
   "name": "python3"
  },
  "language_info": {
   "codemirror_mode": {
    "name": "ipython",
    "version": 3
   },
   "file_extension": ".py",
   "mimetype": "text/x-python",
   "name": "python",
   "nbconvert_exporter": "python",
   "pygments_lexer": "ipython3",
   "version": "3.11.3"
  }
 },
 "nbformat": 4,
 "nbformat_minor": 2
}
